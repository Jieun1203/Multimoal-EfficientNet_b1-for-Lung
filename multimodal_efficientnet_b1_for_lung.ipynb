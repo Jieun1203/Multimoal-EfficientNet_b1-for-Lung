{
  "cells": [
    {
      "cell_type": "code",
      "execution_count": null,
      "id": "based-montana",
      "metadata": {
        "id": "based-montana",
        "outputId": "5f173bb1-c353-46e0-baae-95c4fe8582c5"
      },
      "outputs": [
        {
          "name": "stdout",
          "output_type": "stream",
          "text": [
            "importing Jupyter notebook from clinical_data_loader.ipynb\n",
            "importing Jupyter notebook from clinical_data_loader_external_test.ipynb\n",
            "importing Jupyter notebook from clinical_data_loader_external_validation.ipynb\n"
          ]
        }
      ],
      "source": [
        "import argparse\n",
        "import torch\n",
        "import numpy as np\n",
        "import pandas as pd\n",
        "from PIL import Image\n",
        "import glob, os, re\n",
        "from torch.utils.data.dataset import Dataset\n",
        "from torchvision import transforms\n",
        "import random\n",
        "from tqdm import tqdm\n",
        "import torch.nn.functional as F\n",
        "from sklearn.model_selection import StratifiedKFold\n",
        "\n",
        "import  torchvision.models as models\n",
        "import torch.nn as nn\n",
        "from torch.utils.data import DataLoader\n",
        "from torch.autograd import Variable\n",
        "from sklearn.metrics import roc_auc_score, confusion_matrix\n",
        "from efficientnet_pytorch import EfficientNet\n",
        "\n",
        "from clinical_data_loader import ImageDataset, t_ImageDataset, v_ImageDataset\n",
        "from efficientnet_model import MyEffientnet_b1_clinical, model_training"
      ]
    },
    {
      "cell_type": "code",
      "execution_count": null,
      "id": "welsh-brave",
      "metadata": {
        "id": "welsh-brave"
      },
      "outputs": [],
      "source": [
        "import warnings\n",
        "warnings.filterwarnings(\"ignore\", category=np.VisibleDeprecationWarning)"
      ]
    },
    {
      "cell_type": "code",
      "execution_count": null,
      "id": "matched-latex",
      "metadata": {
        "id": "matched-latex"
      },
      "outputs": [],
      "source": [
        "torch.backends.cudnn.deterministic = True\n",
        "torch.backends.cudnn.benchmark = False\n",
        "\n",
        "random_seed = 123\n",
        "\n",
        "torch.manual_seed(random_seed)\n",
        "np.random.seed(random_seed)\n",
        "random.seed(random_seed)"
      ]
    },
    {
      "cell_type": "code",
      "execution_count": null,
      "id": "norman-dubai",
      "metadata": {
        "id": "norman-dubai"
      },
      "outputs": [],
      "source": [
        "train_transforms = {\n",
        "    'train_aug' : transforms.Compose([\n",
        "        transforms.Resize(256),\n",
        "        transforms.RandomHorizontalFlip(0.5), #0.5\n",
        "        transforms.RandomVerticalFlip(0.5), #0.5\n",
        "        transforms.CenterCrop(240),\n",
        "        transforms.ToTensor(),\n",
        "    ]),\n",
        "}\n",
        "\n",
        "test_transforms={\n",
        "    'val': transforms.Compose([\n",
        "        transforms.Resize(256),\n",
        "        transforms.CenterCrop(240),\n",
        "        transforms.ToTensor(),\n",
        "    ]),\n",
        "}\n"
      ]
    },
    {
      "cell_type": "code",
      "execution_count": null,
      "id": "progressive-preference",
      "metadata": {
        "id": "progressive-preference"
      },
      "outputs": [],
      "source": [
        "img_root = 'img_root'\n",
        "label_pth = 'label_root'\n",
        "save_root = 'save_root'"
      ]
    },
    {
      "cell_type": "code",
      "execution_count": null,
      "id": "completed-local",
      "metadata": {
        "id": "completed-local"
      },
      "outputs": [],
      "source": [
        "idx_root = 'patient_index_info_root'\n",
        "idx_df = pd.read_excel(idx_root)"
      ]
    },
    {
      "cell_type": "code",
      "execution_count": null,
      "id": "difficult-earthquake",
      "metadata": {
        "id": "difficult-earthquake"
      },
      "outputs": [],
      "source": [
        "train_idx = idx_df['train_number'].to_numpy()\n",
        "val_idx = idx_df['val_number'].dropna().to_numpy()\n",
        "test_idx = idx_df['test_number'].dropna().to_numpy()"
      ]
    },
    {
      "cell_type": "code",
      "execution_count": null,
      "id": "analyzed-client",
      "metadata": {
        "id": "analyzed-client"
      },
      "outputs": [],
      "source": [
        "train_dataset = ImageDataset(img_root, train_idx, label_pth, 'train', transform = train_transforms['train_aug'])\n",
        "val_dataset = ImageDataset(img_root, val_idx, label_pth, 'val', transform = test_transforms['val'])\n",
        "\n",
        "train_loader = torch.utils.data.DataLoader(train_dataset, batch_size=batch_size, shuffle=True,\n",
        "                                           num_workers=0, pin_memory=True)\n",
        "val_loader = torch.utils.data.DataLoader(val_dataset, batch_size=batch_size, shuffle=True,\n",
        "                                          num_workers=0, pin_memory=True)"
      ]
    },
    {
      "cell_type": "code",
      "execution_count": null,
      "id": "fossil-potter",
      "metadata": {
        "id": "fossil-potter"
      },
      "outputs": [],
      "source": [
        "t_img_root = 'external_test_img_path'\n",
        "t_label_pth = 'external_test_label_path'\n",
        "v_img_root = 'external_valid_img_path'\n",
        "v_label_pth = 'external_valid_label_path'"
      ]
    },
    {
      "cell_type": "code",
      "execution_count": null,
      "id": "transsexual-istanbul",
      "metadata": {
        "id": "transsexual-istanbul"
      },
      "outputs": [],
      "source": [
        "ex_val_dataset = v_ImageDataset(v_img_root, v_label_pth, 'val', transform = test_transforms['val'])\n",
        "ex_val_loader = torch.utils.data.DataLoader(ex_val_dataset, batch_size=batch_size, shuffle=True,\n",
        "                                               num_workers=0, pin_memory=True)\n",
        "ex_test_dataset = t_ImageDataset(t_img_root, t_label_pth, 'test', transform = test_transforms['val'])\n",
        "ex_test_loader = torch.utils.data.DataLoader(ex_test_dataset, batch_size=batch_size, shuffle=True,\n",
        "                                               num_workers=0, pin_memory=True)"
      ]
    },
    {
      "cell_type": "code",
      "execution_count": null,
      "id": "presidential-naples",
      "metadata": {
        "id": "presidential-naples"
      },
      "outputs": [],
      "source": [
        "test_dataset = ImageDataset(img_root, test_idx, label_pth, 'test', transform = test_transforms['val'])\n",
        "f_test_dataset = torch.utils.data.ConcatDataset([test_dataset, ex_val_dataset])\n",
        "test_loader = torch.utils.data.DataLoader(f_test_dataset, batch_size=batch_size, shuffle=True,\n",
        "                                               num_workers=0, pin_memory=True)"
      ]
    },
    {
      "cell_type": "code",
      "source": [
        "my_model = MyEffientnet_b1_clinical(512, 512, 256, 32, 16, 16, 16, 32)\n",
        "my_model.cuda()"
      ],
      "metadata": {
        "id": "8kLjnRi0ideJ"
      },
      "id": "8kLjnRi0ideJ",
      "execution_count": null,
      "outputs": []
    },
    {
      "cell_type": "code",
      "source": [
        "num_epoch, batch_size = 30, 32"
      ],
      "metadata": {
        "id": "UT106xqylKVd"
      },
      "id": "UT106xqylKVd",
      "execution_count": null,
      "outputs": []
    },
    {
      "cell_type": "code",
      "source": [
        "training(num_epoch, my_model, train_loader, val_loader, ex_test_loader, save_root)"
      ],
      "metadata": {
        "id": "1rE8y6SgikDE"
      },
      "id": "1rE8y6SgikDE",
      "execution_count": null,
      "outputs": []
    },
    {
      "cell_type": "code",
      "execution_count": null,
      "id": "previous-tunisia",
      "metadata": {
        "id": "previous-tunisia"
      },
      "outputs": [],
      "source": []
    }
  ],
  "metadata": {
    "kernelspec": {
      "display_name": "Python 3 (ipykernel)",
      "language": "python",
      "name": "python3"
    },
    "language_info": {
      "codemirror_mode": {
        "name": "ipython",
        "version": 3
      },
      "file_extension": ".py",
      "mimetype": "text/x-python",
      "name": "python",
      "nbconvert_exporter": "python",
      "pygments_lexer": "ipython3",
      "version": "3.7.10"
    },
    "colab": {
      "provenance": []
    }
  },
  "nbformat": 4,
  "nbformat_minor": 5
}